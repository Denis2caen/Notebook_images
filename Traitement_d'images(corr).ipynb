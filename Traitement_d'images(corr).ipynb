{
 "cells": [
  {
   "cell_type": "markdown",
   "metadata": {},
   "source": [
    "## Thème 5 : Manipulation d'image avec Python"
   ]
  },
  {
   "cell_type": "markdown",
   "metadata": {},
   "source": [
    "Entrer son **NOM** et son **prénom** dans la cellule ci-dessous"
   ]
  },
  {
   "cell_type": "raw",
   "metadata": {},
   "source": []
  },
  {
   "cell_type": "markdown",
   "metadata": {},
   "source": [
    "### L'image qui va être utilisée, pour commencer, est *poisson.jpg*  \n",
    "C'est une image couleur au format RVB, chaque canal étant codé par un octet (valeurs de 0 à 255).  \n",
    "Il est possible d'en utiliser une autre en la téléchargeant :  \n",
    "> Menu **File**  **Open**, puis **upload** *(en haut à droite)*, puis **téléverser**."
   ]
  },
  {
   "cell_type": "markdown",
   "metadata": {},
   "source": [
    "La librairie PIL (Python Imaging Library) fournit les outils nécessaires pour les manipulations d'images que nous aborderons dans cette page. Ces manipulations sont simples et il existe des librairies plus complètes pour aborder les fonctions avancées de traitement des images."
   ]
  },
  {
   "cell_type": "code",
   "execution_count": null,
   "metadata": {},
   "outputs": [],
   "source": [
    "from PIL import Image"
   ]
  },
  {
   "cell_type": "markdown",
   "metadata": {},
   "source": [
    "Chaque pixel d'une image est repéré par ses coordonnées x,y.\n",
    "![coordonnées image](imagenb.jpg)\n",
    "\n",
    "Comme vous pouvez le constater sur le schéma ci-dessus, le pixel de coordonnées (0,0) se trouve en haut à gauche de l'image. Si l'image fait 800 pixels de large et 600 pixels de haut, le pixel ayant pour coordonnées (100,500) sera en bas à gauche et le pixel(400,300) sera au milieu de l'image. "
   ]
  },
  {
   "cell_type": "markdown",
   "metadata": {},
   "source": [
    "Exemples d'instructions et de morceaux de codes qui permettent de travailler sur une image :  \n",
    "- Ouverture du fichier *Mon_Image.jpg* et création de l'objet img1 :  \n",
    "> **img1=Image.open(\"Mon_Image.jpg\")**  \n",
    "  \n",
    "  \n",
    "- On récupère la couleur du pixel (i,j) de l'image img1 sous la forme d'un tuple (r, v, b) :  \n",
    "> **img1.getpixel((i, j))**  \n",
    "  \n",
    "  \n",
    "- On attribue la couleur (r,v,b) au pixel (i,j) :  \n",
    "> **img1.putpixel((i, j), (r,v,b))**  \n",
    "\n",
    "\n",
    "- On enregistre l'image crée sous le sous nom *img2.jpg* :  \n",
    "> **img1.save(\"img2.jpg\")**  \n",
    "    \n",
    "    \n",
    "- On montre l'image img2 :  \n",
    "> **img2.show()**  \n",
    "  \n",
    "  \n",
    "Exemple :"
   ]
  },
  {
   "cell_type": "code",
   "execution_count": null,
   "metadata": {},
   "outputs": [],
   "source": [
    "from PIL import Image\n",
    "img = Image.open(\"poisson.jpg\")\n",
    "img.show() # Attention, l'image s'affiche sur une autre application de l'ordinateur (Photos de Windows).\n",
    "r,v,b=img.getpixel((100,250))\n",
    "print(\"canal rouge : \",r,\"canal vert : \",v,\"canal bleu : \",b)\n",
    "img  # l'image s'affiche en-dessous"
   ]
  },
  {
   "cell_type": "markdown",
   "metadata": {},
   "source": [
    "*Pour la suite du travail, choisir un mode d'affichage, selon l'ordinateur : **img** pour un affichage en-dessous de la cellule ou **img.show()** pour un affichage dans une autre fenêtre avec une autre application de l'ordinateur.*"
   ]
  },
  {
   "cell_type": "markdown",
   "metadata": {},
   "source": [
    "**Expliquer en quelques lignes** ce que fait ce programme, préciser ce que représentent r, v et b : "
   ]
  },
  {
   "cell_type": "raw",
   "metadata": {},
   "source": []
  },
  {
   "cell_type": "markdown",
   "metadata": {},
   "source": [
    "**Recopier ci-dessous et modifier le programme** pour qu'il affiche les valeurs du canal rouge, du canal vert et du canal bleu du pixel de coordonnées (300,200), notez votre réponse :  \n",
    "\n"
   ]
  },
  {
   "cell_type": "code",
   "execution_count": null,
   "metadata": {},
   "outputs": [],
   "source": []
  },
  {
   "cell_type": "raw",
   "metadata": {},
   "source": [
    "Le pixel a pour valeurs : rouge = ..., vert = ..., bleu = ... "
   ]
  },
  {
   "cell_type": "markdown",
   "metadata": {},
   "source": [
    "Il est possible d'accéder aux caractéristiques de l'image avec les commandes suivantes :  \n",
    "\n",
    ">  **.format**  : format de la source de l’image,  \n",
    ">  **.size**  : taille de l’image(largeur, hauteur en pixels),  \n",
    ">  **.mode**  : noms et type des différents canaux de l’image (« RGB » = 3 canaux Rouge, Vert et Bleu – « L » = un canal pour niveaux de gris – …).\n"
   ]
  },
  {
   "cell_type": "code",
   "execution_count": null,
   "metadata": {},
   "outputs": [],
   "source": [
    "print(img.format, img.size, img.mode)"
   ]
  },
  {
   "cell_type": "markdown",
   "metadata": {},
   "source": [
    "Il est possible de modifier les canaux RVB d'un pixel avec *img.putpixel((i, j), (r,v,b))* : "
   ]
  },
  {
   "cell_type": "code",
   "execution_count": null,
   "metadata": {},
   "outputs": [],
   "source": [
    "img.putpixel((410,260),(0,0,255))\n",
    "img"
   ]
  },
  {
   "cell_type": "markdown",
   "metadata": {},
   "source": [
    "Observer bien l'image formée. Quelle est la couleur du pixel qui a été modifié ? (sur la gauche de l'oeil)  "
   ]
  },
  {
   "cell_type": "raw",
   "metadata": {},
   "source": []
  },
  {
   "cell_type": "markdown",
   "metadata": {},
   "source": [
    "Que font les 2 lignes de code ? :  \n",
    "> img.putpixel((410,260),(0,0,255))  \n",
    "> img  \n"
   ]
  },
  {
   "cell_type": "raw",
   "metadata": {},
   "source": []
  },
  {
   "cell_type": "code",
   "execution_count": null,
   "metadata": {},
   "outputs": [],
   "source": [
    "img = Image.open(\"picasso.jpg\")\n",
    "img"
   ]
  },
  {
   "cell_type": "markdown",
   "metadata": {},
   "source": [
    "**Modifier le code** pour colorier, en plus, le pixel de coordonnées (409,260) en vert. "
   ]
  },
  {
   "cell_type": "code",
   "execution_count": null,
   "metadata": {},
   "outputs": [],
   "source": []
  },
  {
   "cell_type": "markdown",
   "metadata": {},
   "source": [
    "Pour modifier plusieurs pixels, il faut utiliser une boucle (for).  \n",
    "Si la taille de l'image est inconnue, il faut d'abord la déterminer, avec *.size*  (largeur, puis hauteur)"
   ]
  },
  {
   "cell_type": "code",
   "execution_count": null,
   "metadata": {},
   "outputs": [],
   "source": [
    "largeur_image, hauteur_image = img.size\n",
    "print(\"la largeur est : \",largeur_image,\" pixels et la hauteur : \",hauteur_image)"
   ]
  },
  {
   "cell_type": "code",
   "execution_count": null,
   "metadata": {},
   "outputs": [],
   "source": [
    "for y in range(hauteur_image):\n",
    "    for x in range(largeur_image):\n",
    "        r,v,b=img.getpixel((x,y))\n",
    "        n_r=v\n",
    "        n_v=b\n",
    "        n_b=r\n",
    "        img.putpixel((x,y),(n_r,n_v,n_b))\n",
    "#img.show()\n",
    "img"
   ]
  },
  {
   "cell_type": "markdown",
   "metadata": {},
   "source": [
    "Que fait ce programme ?"
   ]
  },
  {
   "cell_type": "raw",
   "metadata": {},
   "source": []
  },
  {
   "cell_type": "markdown",
   "metadata": {},
   "source": [
    "Écrire un programme qui inverse les valeurs des canaux bleu et rouge sans changer la valeur du canal vert. "
   ]
  },
  {
   "cell_type": "code",
   "execution_count": null,
   "metadata": {},
   "outputs": [],
   "source": [
    "for y in range(hauteur_image):\n",
    "    for x in range(largeur_image):\n",
    "        r,v,b=img.getpixel((x,y))\n",
    "        n_r=b\n",
    "        n_v=r\n",
    "        n_b=b\n",
    "        img.putpixel((x,y),(n_r,n_v,n_b))\n",
    "#img.show()\n",
    "img"
   ]
  },
  {
   "cell_type": "markdown",
   "metadata": {},
   "source": [
    "Écrire un programme qui donne le négatif de l'image."
   ]
  },
  {
   "cell_type": "markdown",
   "metadata": {},
   "source": [
    "### Image en niveaux de gris.  "
   ]
  },
  {
   "cell_type": "markdown",
   "metadata": {},
   "source": [
    "Gris rapide : faie la moyenne des niveaux r, v et b.  \n",
    "*Attention, le résultat doit être un entier compris entre 0 et 255.*"
   ]
  },
  {
   "cell_type": "code",
   "execution_count": null,
   "metadata": {},
   "outputs": [],
   "source": [
    "img = Image.open(\"poisson.jpg\")\n",
    "largeur_image, hauteur_image = img.size\n",
    "for y in range(hauteur_image):\n",
    "    for x in range(largeur_image):\n",
    "        r,v,b=img.getpixel((x,y))\n",
    "        g=(r+v+b)//3\n",
    "        img.putpixel((x,y),(g,g,g))\n",
    "img"
   ]
  },
  {
   "cell_type": "markdown",
   "metadata": {},
   "source": [
    "Pour obtenir un gris plus réaliste, on adapte les proportions de chacun des canaux selon une formule :  \n",
    "    0.21*rouge+0.71*vert+0.07*bleu"
   ]
  },
  {
   "cell_type": "code",
   "execution_count": null,
   "metadata": {},
   "outputs": [],
   "source": [
    "img = Image.open(\"picasso.jpg\")\n",
    "largeur_image, hauteur_image = img.size\n",
    "for y in range(hauteur_image):\n",
    "    for x in range(largeur_image):\n",
    "        r,v,b=img.getpixel((x,y))\n",
    "        gris=0.21*r+0.71*v+0.07*b\n",
    "        img.putpixel((x,y),(int(gris),int(gris),int(gris)))\n",
    "#img.show()\n",
    "img"
   ]
  },
  {
   "cell_type": "markdown",
   "metadata": {},
   "source": [
    "### Image sépia  \n",
    "Le code de la couleur sépia est (94, 38, 18).\n",
    "Il faut récupérer la \"valeur\" du gris (moyenne des niveaux r, v et b (gris simple) ou l moyenne pondérée), puis attribuer une proportion à l'intensité du sépia, selon le niveau de gris."
   ]
  },
  {
   "cell_type": "code",
   "execution_count": null,
   "metadata": {},
   "outputs": [],
   "source": [
    "img = Image.open(\"picasso.jpg\")\n",
    "largeur_image, hauteur_image = img.size\n",
    "seuil=100\n",
    "for y in range(hauteur_image):\n",
    "    for x in range(largeur_image):\n",
    "        rouge,vert,bleu=img.getpixel((x,y))\n",
    "        moyenne=0.2126*rouge+0.7152*vert+0.0722*bleu\n",
    "        if moyenne<seuil:\n",
    "            k=moyenne/seuil\n",
    "            rouge=94*k\n",
    "            vert=38*k\n",
    "            bleu=18*k\n",
    "        else:\n",
    "            k=(moyenne-seuil)/(255-seuil)\n",
    "            rouge=94+k*(255-94)\n",
    "            vert=38+k*(255-38)\n",
    "            bleu=18+k*(255-18)\n",
    "        img.putpixel((x,y),(int(rouge),int(vert),int(bleu)))\n",
    "img\n"
   ]
  },
  {
   "cell_type": "code",
   "execution_count": null,
   "metadata": {},
   "outputs": [],
   "source": [
    "img = Image.open(\"picasso.jpg\")\n",
    "#input_pixels = input_image.load()\n",
    "largeur_image, hauteur_image = img.size\n",
    "# Cropped area\n",
    "#origin = (130, 150)\n",
    "#end = (400, 320)\n",
    "\n",
    "# Create output image\n",
    "img2 = Image.new(\"RGB\", (largeur_image, hauteur_image))\n",
    "#draw = ImageDraw.Draw(output_image)\n",
    "\n",
    "# Copy pixels\n",
    "for y in range(hauteur_image):\n",
    "    for x in range(largeur_image):\n",
    "        r,v,b=img.getpixel((x,y))\n",
    "        g=(r+v+b)//3\n",
    "        xinv=largeur_image-x-1\n",
    "        img2.putpixel((xinv,y),(g,g,g))\n",
    "\n",
    "img2"
   ]
  },
  {
   "cell_type": "code",
   "execution_count": null,
   "metadata": {},
   "outputs": [],
   "source": [
    "img = Image.open(\"picasso.jpg\")\n",
    "# récupérer la taille de l'image\n",
    "largeur_image, hauteur_image = img.size\n",
    "\n",
    "# créer nouvelle image de largeur double\n",
    "img3 = Image.new(\"RGB\", (2*largeur_image, hauteur_image))\n",
    "#draw = ImageDraw.Draw(output_image)\n",
    "\n",
    "# créer les pixels, à gauche et à droite\n",
    "for y in range(hauteur_image):\n",
    "    for x in range(largeur_image):\n",
    "        r,v,b=img.getpixel((x,y))\n",
    "        img3.putpixel((x,y),(r,v,b))\n",
    "        xinv=2*largeur_image-x-1 #abscisse des pixels miroir\n",
    "        g=(r+v+b)//3\n",
    "        img3.putpixel((xinv,y),(g,0,0)) #pixels miroir en niveaux de gris\n",
    "img3.save(\"image_et_miroir.jpg\")\n",
    "img3"
   ]
  },
  {
   "cell_type": "code",
   "execution_count": null,
   "metadata": {},
   "outputs": [],
   "source": [
    "img = Image.open(\"picasso.jpg\")\n",
    "# récupérer la taille de l'image\n",
    "largeur_image, hauteur_image = img.size\n",
    "\n",
    "# créer nouvelle image de largeur double\n",
    "img4 = Image.new(\"RGB\", (2*largeur_image, 2*hauteur_image))\n",
    "#draw = ImageDraw.Draw(output_image)\n",
    "\n",
    "# créer les pixels, à gauche et à droite\n",
    "for y in range(hauteur_image):\n",
    "    for x in range(largeur_image):\n",
    "        r,v,b=img.getpixel((x,y))\n",
    "        img4.putpixel((x,y),(r,v,b))\n",
    "        xinv=2*largeur_image-x-1 #abscisse des pixels miroir\n",
    "        g=(r+v+b)//3\n",
    "        img4.putpixel((xinv,y),(g,0,0)) #pixels miroir en niveaux de gris\n",
    "for y in range(hauteur_image):\n",
    "    for x in range(largeur_image):\n",
    "        r,v,b=img.getpixel((x,y))\n",
    "        g=(r+v+b)//3\n",
    "        if g>125:\n",
    "            img4.putpixel((x,y+hauteur_image),(255,255,255))\n",
    "        else:\n",
    "            img4.putpixel((x,y+hauteur_image),(0,0,255))\n",
    "        xinv=2*largeur_image-x-1 #abscisse des pixels miroir\n",
    "        img4.putpixel((xinv,y+hauteur_image),(0,g,0)) #pixels miroir en niveaux de gris\n",
    "\n",
    "img4.save(\"image_et_miroirx4.jpg\")\n",
    "img4"
   ]
  },
  {
   "cell_type": "code",
   "execution_count": null,
   "metadata": {},
   "outputs": [],
   "source": []
  },
  {
   "cell_type": "code",
   "execution_count": null,
   "metadata": {},
   "outputs": [],
   "source": [
    "img = Image.open(\"poisson.jpg\")\n",
    "largeur_image, hauteur_image = img.size\n",
    "for y in range(hauteur_image):\n",
    "    for x in range(largeur_image):\n",
    "        r,v,b=img.getpixel((x,y))\n",
    "        g=(r+v+b)//3\n",
    "        if g>125:\n",
    "            img.putpixel((x,y),(255,255,255))\n",
    "        else:\n",
    "            img.putpixel((x,y),(0,0,0))\n",
    "#img.show()\n",
    "img"
   ]
  },
  {
   "cell_type": "code",
   "execution_count": null,
   "metadata": {},
   "outputs": [],
   "source": [
    "for y in range(hauteur_image):\n",
    "    for x in range(largeur_image):\n",
    "        r,v,b=img.getpixel((x,y))\n",
    "        g=(r+v+b)//3\n",
    "        if g<125:\n",
    "            img.putpixel((x,y),(255,255,255))\n",
    "        else:\n",
    "            img.putpixel((x,y),(0,0,0))\n",
    "#img.show()\n",
    "img"
   ]
  },
  {
   "cell_type": "markdown",
   "metadata": {},
   "source": [
    "### enregistrer cette page en html  \n",
    "**Menu** **File** / **Download as** / **HTML**  \n",
    "Puis la récupérer dans le dossier **téléchargement** et la faire parvenir au professeur (via l'ENT ou par mail)"
   ]
  }
 ],
 "metadata": {
  "kernelspec": {
   "display_name": "Python 3",
   "language": "python",
   "name": "python3"
  },
  "language_info": {
   "codemirror_mode": {
    "name": "ipython",
    "version": 3
   },
   "file_extension": ".py",
   "mimetype": "text/x-python",
   "name": "python",
   "nbconvert_exporter": "python",
   "pygments_lexer": "ipython3",
   "version": "3.7.3"
  }
 },
 "nbformat": 4,
 "nbformat_minor": 2
}
